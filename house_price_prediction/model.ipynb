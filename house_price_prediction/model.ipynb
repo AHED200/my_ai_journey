{
 "cells": [
  {
   "cell_type": "markdown",
   "metadata": {},
   "source": [
    "# House price prediction\n",
    "\n",
    "## Dataste\n",
    "`https://www.kaggle.com/datasets/muhammadbinimran/housing-price-prediction-data`"
   ]
  },
  {
   "cell_type": "code",
   "execution_count": 1,
   "metadata": {},
   "outputs": [],
   "source": [
    "import pandas as pd\n",
    "import numpy as np\n",
    "from sklearn.model_selection import train_test_split\n",
    "from sklearn.linear_model import LinearRegression\n",
    "from sklearn.svm import SVR\n",
    "from sklearn.preprocessing import StandardScaler\n",
    "from sklearn.metrics import mean_absolute_error, mean_squared_error, r2_score"
   ]
  },
  {
   "cell_type": "code",
   "execution_count": 2,
   "metadata": {},
   "outputs": [
    {
     "data": {
      "text/html": [
       "<div>\n",
       "<style scoped>\n",
       "    .dataframe tbody tr th:only-of-type {\n",
       "        vertical-align: middle;\n",
       "    }\n",
       "\n",
       "    .dataframe tbody tr th {\n",
       "        vertical-align: top;\n",
       "    }\n",
       "\n",
       "    .dataframe thead th {\n",
       "        text-align: right;\n",
       "    }\n",
       "</style>\n",
       "<table border=\"1\" class=\"dataframe\">\n",
       "  <thead>\n",
       "    <tr style=\"text-align: right;\">\n",
       "      <th></th>\n",
       "      <th>SquareFeet</th>\n",
       "      <th>Bedrooms</th>\n",
       "      <th>Bathrooms</th>\n",
       "      <th>Neighborhood</th>\n",
       "      <th>YearBuilt</th>\n",
       "      <th>Price</th>\n",
       "    </tr>\n",
       "  </thead>\n",
       "  <tbody>\n",
       "    <tr>\n",
       "      <th>0</th>\n",
       "      <td>2126</td>\n",
       "      <td>4</td>\n",
       "      <td>1</td>\n",
       "      <td>Rural</td>\n",
       "      <td>1969</td>\n",
       "      <td>215355.283618</td>\n",
       "    </tr>\n",
       "    <tr>\n",
       "      <th>1</th>\n",
       "      <td>2459</td>\n",
       "      <td>3</td>\n",
       "      <td>2</td>\n",
       "      <td>Rural</td>\n",
       "      <td>1980</td>\n",
       "      <td>195014.221626</td>\n",
       "    </tr>\n",
       "    <tr>\n",
       "      <th>2</th>\n",
       "      <td>1860</td>\n",
       "      <td>2</td>\n",
       "      <td>1</td>\n",
       "      <td>Suburb</td>\n",
       "      <td>1970</td>\n",
       "      <td>306891.012076</td>\n",
       "    </tr>\n",
       "    <tr>\n",
       "      <th>3</th>\n",
       "      <td>2294</td>\n",
       "      <td>2</td>\n",
       "      <td>1</td>\n",
       "      <td>Urban</td>\n",
       "      <td>1996</td>\n",
       "      <td>206786.787153</td>\n",
       "    </tr>\n",
       "    <tr>\n",
       "      <th>4</th>\n",
       "      <td>2130</td>\n",
       "      <td>5</td>\n",
       "      <td>2</td>\n",
       "      <td>Suburb</td>\n",
       "      <td>2001</td>\n",
       "      <td>272436.239065</td>\n",
       "    </tr>\n",
       "    <tr>\n",
       "      <th>...</th>\n",
       "      <td>...</td>\n",
       "      <td>...</td>\n",
       "      <td>...</td>\n",
       "      <td>...</td>\n",
       "      <td>...</td>\n",
       "      <td>...</td>\n",
       "    </tr>\n",
       "    <tr>\n",
       "      <th>49995</th>\n",
       "      <td>1282</td>\n",
       "      <td>5</td>\n",
       "      <td>3</td>\n",
       "      <td>Rural</td>\n",
       "      <td>1975</td>\n",
       "      <td>100080.865895</td>\n",
       "    </tr>\n",
       "    <tr>\n",
       "      <th>49996</th>\n",
       "      <td>2854</td>\n",
       "      <td>2</td>\n",
       "      <td>2</td>\n",
       "      <td>Suburb</td>\n",
       "      <td>1988</td>\n",
       "      <td>374507.656727</td>\n",
       "    </tr>\n",
       "    <tr>\n",
       "      <th>49997</th>\n",
       "      <td>2979</td>\n",
       "      <td>5</td>\n",
       "      <td>3</td>\n",
       "      <td>Suburb</td>\n",
       "      <td>1962</td>\n",
       "      <td>384110.555590</td>\n",
       "    </tr>\n",
       "    <tr>\n",
       "      <th>49998</th>\n",
       "      <td>2596</td>\n",
       "      <td>5</td>\n",
       "      <td>2</td>\n",
       "      <td>Rural</td>\n",
       "      <td>1984</td>\n",
       "      <td>380512.685957</td>\n",
       "    </tr>\n",
       "    <tr>\n",
       "      <th>49999</th>\n",
       "      <td>1572</td>\n",
       "      <td>5</td>\n",
       "      <td>3</td>\n",
       "      <td>Rural</td>\n",
       "      <td>2011</td>\n",
       "      <td>221618.583218</td>\n",
       "    </tr>\n",
       "  </tbody>\n",
       "</table>\n",
       "<p>50000 rows × 6 columns</p>\n",
       "</div>"
      ],
      "text/plain": [
       "       SquareFeet  Bedrooms  Bathrooms Neighborhood  YearBuilt          Price\n",
       "0            2126         4          1        Rural       1969  215355.283618\n",
       "1            2459         3          2        Rural       1980  195014.221626\n",
       "2            1860         2          1       Suburb       1970  306891.012076\n",
       "3            2294         2          1        Urban       1996  206786.787153\n",
       "4            2130         5          2       Suburb       2001  272436.239065\n",
       "...           ...       ...        ...          ...        ...            ...\n",
       "49995        1282         5          3        Rural       1975  100080.865895\n",
       "49996        2854         2          2       Suburb       1988  374507.656727\n",
       "49997        2979         5          3       Suburb       1962  384110.555590\n",
       "49998        2596         5          2        Rural       1984  380512.685957\n",
       "49999        1572         5          3        Rural       2011  221618.583218\n",
       "\n",
       "[50000 rows x 6 columns]"
      ]
     },
     "execution_count": 2,
     "metadata": {},
     "output_type": "execute_result"
    }
   ],
   "source": [
    "data = pd.read_csv('housing_price_dataset.csv')  # Replace with actual filename\n",
    "\n",
    "data"
   ]
  },
  {
   "cell_type": "markdown",
   "metadata": {},
   "source": [
    "## Data cleaning"
   ]
  },
  {
   "cell_type": "code",
   "execution_count": 3,
   "metadata": {},
   "outputs": [
    {
     "name": "stdout",
     "output_type": "stream",
     "text": [
      "SquareFeet      0\n",
      "Bedrooms        0\n",
      "Bathrooms       0\n",
      "Neighborhood    0\n",
      "YearBuilt       0\n",
      "Price           0\n",
      "dtype: int64\n"
     ]
    }
   ],
   "source": [
    "# Check for missing values\n",
    "print(data.isnull().sum())\n",
    "\n",
    "# Split into features and target.\n",
    "X = data.drop('Price', axis=1)\n",
    "y = data['Price']"
   ]
  },
  {
   "cell_type": "markdown",
   "metadata": {},
   "source": [
    "## Data preprocessing"
   ]
  },
  {
   "cell_type": "code",
   "execution_count": 4,
   "metadata": {},
   "outputs": [
    {
     "name": "stdout",
     "output_type": "stream",
     "text": [
      "Available values ['Rural' 'Suburb' 'Urban']\n"
     ]
    },
    {
     "data": {
      "text/html": [
       "<div>\n",
       "<style scoped>\n",
       "    .dataframe tbody tr th:only-of-type {\n",
       "        vertical-align: middle;\n",
       "    }\n",
       "\n",
       "    .dataframe tbody tr th {\n",
       "        vertical-align: top;\n",
       "    }\n",
       "\n",
       "    .dataframe thead th {\n",
       "        text-align: right;\n",
       "    }\n",
       "</style>\n",
       "<table border=\"1\" class=\"dataframe\">\n",
       "  <thead>\n",
       "    <tr style=\"text-align: right;\">\n",
       "      <th></th>\n",
       "      <th>SquareFeet</th>\n",
       "      <th>Bedrooms</th>\n",
       "      <th>Bathrooms</th>\n",
       "      <th>YearBuilt</th>\n",
       "      <th>Neighborhood_Rural</th>\n",
       "      <th>Neighborhood_Suburb</th>\n",
       "      <th>Neighborhood_Urban</th>\n",
       "    </tr>\n",
       "  </thead>\n",
       "  <tbody>\n",
       "    <tr>\n",
       "      <th>0</th>\n",
       "      <td>2126</td>\n",
       "      <td>4</td>\n",
       "      <td>1</td>\n",
       "      <td>1969</td>\n",
       "      <td>True</td>\n",
       "      <td>False</td>\n",
       "      <td>False</td>\n",
       "    </tr>\n",
       "    <tr>\n",
       "      <th>1</th>\n",
       "      <td>2459</td>\n",
       "      <td>3</td>\n",
       "      <td>2</td>\n",
       "      <td>1980</td>\n",
       "      <td>True</td>\n",
       "      <td>False</td>\n",
       "      <td>False</td>\n",
       "    </tr>\n",
       "    <tr>\n",
       "      <th>2</th>\n",
       "      <td>1860</td>\n",
       "      <td>2</td>\n",
       "      <td>1</td>\n",
       "      <td>1970</td>\n",
       "      <td>False</td>\n",
       "      <td>True</td>\n",
       "      <td>False</td>\n",
       "    </tr>\n",
       "    <tr>\n",
       "      <th>3</th>\n",
       "      <td>2294</td>\n",
       "      <td>2</td>\n",
       "      <td>1</td>\n",
       "      <td>1996</td>\n",
       "      <td>False</td>\n",
       "      <td>False</td>\n",
       "      <td>True</td>\n",
       "    </tr>\n",
       "    <tr>\n",
       "      <th>4</th>\n",
       "      <td>2130</td>\n",
       "      <td>5</td>\n",
       "      <td>2</td>\n",
       "      <td>2001</td>\n",
       "      <td>False</td>\n",
       "      <td>True</td>\n",
       "      <td>False</td>\n",
       "    </tr>\n",
       "    <tr>\n",
       "      <th>...</th>\n",
       "      <td>...</td>\n",
       "      <td>...</td>\n",
       "      <td>...</td>\n",
       "      <td>...</td>\n",
       "      <td>...</td>\n",
       "      <td>...</td>\n",
       "      <td>...</td>\n",
       "    </tr>\n",
       "    <tr>\n",
       "      <th>49995</th>\n",
       "      <td>1282</td>\n",
       "      <td>5</td>\n",
       "      <td>3</td>\n",
       "      <td>1975</td>\n",
       "      <td>True</td>\n",
       "      <td>False</td>\n",
       "      <td>False</td>\n",
       "    </tr>\n",
       "    <tr>\n",
       "      <th>49996</th>\n",
       "      <td>2854</td>\n",
       "      <td>2</td>\n",
       "      <td>2</td>\n",
       "      <td>1988</td>\n",
       "      <td>False</td>\n",
       "      <td>True</td>\n",
       "      <td>False</td>\n",
       "    </tr>\n",
       "    <tr>\n",
       "      <th>49997</th>\n",
       "      <td>2979</td>\n",
       "      <td>5</td>\n",
       "      <td>3</td>\n",
       "      <td>1962</td>\n",
       "      <td>False</td>\n",
       "      <td>True</td>\n",
       "      <td>False</td>\n",
       "    </tr>\n",
       "    <tr>\n",
       "      <th>49998</th>\n",
       "      <td>2596</td>\n",
       "      <td>5</td>\n",
       "      <td>2</td>\n",
       "      <td>1984</td>\n",
       "      <td>True</td>\n",
       "      <td>False</td>\n",
       "      <td>False</td>\n",
       "    </tr>\n",
       "    <tr>\n",
       "      <th>49999</th>\n",
       "      <td>1572</td>\n",
       "      <td>5</td>\n",
       "      <td>3</td>\n",
       "      <td>2011</td>\n",
       "      <td>True</td>\n",
       "      <td>False</td>\n",
       "      <td>False</td>\n",
       "    </tr>\n",
       "  </tbody>\n",
       "</table>\n",
       "<p>50000 rows × 7 columns</p>\n",
       "</div>"
      ],
      "text/plain": [
       "       SquareFeet  Bedrooms  Bathrooms  YearBuilt  Neighborhood_Rural  \\\n",
       "0            2126         4          1       1969                True   \n",
       "1            2459         3          2       1980                True   \n",
       "2            1860         2          1       1970               False   \n",
       "3            2294         2          1       1996               False   \n",
       "4            2130         5          2       2001               False   \n",
       "...           ...       ...        ...        ...                 ...   \n",
       "49995        1282         5          3       1975                True   \n",
       "49996        2854         2          2       1988               False   \n",
       "49997        2979         5          3       1962               False   \n",
       "49998        2596         5          2       1984                True   \n",
       "49999        1572         5          3       2011                True   \n",
       "\n",
       "       Neighborhood_Suburb  Neighborhood_Urban  \n",
       "0                    False               False  \n",
       "1                    False               False  \n",
       "2                     True               False  \n",
       "3                    False                True  \n",
       "4                     True               False  \n",
       "...                    ...                 ...  \n",
       "49995                False               False  \n",
       "49996                 True               False  \n",
       "49997                 True               False  \n",
       "49998                False               False  \n",
       "49999                False               False  \n",
       "\n",
       "[50000 rows x 7 columns]"
      ]
     },
     "execution_count": 4,
     "metadata": {},
     "output_type": "execute_result"
    }
   ],
   "source": [
    "# Data preprocessing.\n",
    "# Convert categorical variables to dummy variables.\n",
    "# Neighborhood is a categorical variable.\n",
    "# Neighborhood: Rural, Suburban, Urban\n",
    "# Print available values for Neighborhood\n",
    "print(\"Available values\",X['Neighborhood'].unique())\n",
    "X = pd.get_dummies(X, columns=['Neighborhood'],)\n",
    "X"
   ]
  },
  {
   "cell_type": "code",
   "execution_count": 5,
   "metadata": {},
   "outputs": [
    {
     "data": {
      "text/plain": [
       "(array([[-1.33338783,  0.44906695,  1.23134057, ..., -0.70740379,\n",
       "          1.41076284, -0.70508188],\n",
       "        [-1.46718279,  0.44906695, -1.22011292, ..., -0.70740379,\n",
       "         -0.70883636,  1.41827499],\n",
       "        [ 0.83687064,  1.34487176,  0.00561383, ..., -0.70740379,\n",
       "          1.41076284, -0.70508188],\n",
       "        ...,\n",
       "        [-0.29430491, -0.44673786,  0.00561383, ...,  1.4136198 ,\n",
       "         -0.70883636, -0.70508188],\n",
       "        [-0.18136112, -0.44673786, -1.22011292, ..., -0.70740379,\n",
       "         -0.70883636,  1.41827499],\n",
       "        [ 1.40680241,  1.34487176,  0.00561383, ...,  1.4136198 ,\n",
       "         -0.70883636, -0.70508188]]),\n",
       " array([[ 1.17048924, -1.34254267,  0.00561383, ..., -0.70740379,\n",
       "          1.41076284, -0.70508188],\n",
       "        [ 0.27215166, -0.44673786,  0.00561383, ...,  1.4136198 ,\n",
       "         -0.70883636, -0.70508188],\n",
       "        [-0.1900491 , -0.44673786,  1.23134057, ..., -0.70740379,\n",
       "          1.41076284, -0.70508188],\n",
       "        ...,\n",
       "        [-1.07101071,  1.34487176,  1.23134057, ..., -0.70740379,\n",
       "          1.41076284, -0.70508188],\n",
       "        [ 0.8073315 ,  0.44906695,  0.00561383, ...,  1.4136198 ,\n",
       "         -0.70883636, -0.70508188],\n",
       "        [-0.97891807, -0.44673786,  0.00561383, ...,  1.4136198 ,\n",
       "         -0.70883636, -0.70508188]]),\n",
       " 12465     88738.799822\n",
       " 3903     135338.259342\n",
       " 16997    268925.603305\n",
       " 47583    137398.200512\n",
       " 39623    228010.133892\n",
       "              ...      \n",
       " 26150    275860.828573\n",
       " 19878    398641.535595\n",
       " 2694     155576.756784\n",
       " 40093    228746.271935\n",
       " 13646    322003.386670\n",
       " Name: Price, Length: 40000, dtype: float64,\n",
       " 28859    284683.612595\n",
       " 4828     176463.111749\n",
       " 20368    225703.962344\n",
       " 48480     92143.399224\n",
       " 35060    187197.821760\n",
       "              ...      \n",
       " 41113    205867.156130\n",
       " 22098    327060.484717\n",
       " 27845    327110.823460\n",
       " 36406    358543.086793\n",
       " 17771    201220.443665\n",
       " Name: Price, Length: 10000, dtype: float64)"
      ]
     },
     "execution_count": 5,
     "metadata": {},
     "output_type": "execute_result"
    }
   ],
   "source": [
    "# Normalize data.\n",
    "scaler = StandardScaler()\n",
    "x = scaler.fit_transform(X)\n",
    "\n",
    "# Split into training and test sets.\n",
    "x_train, x_test, y_train, y_test = train_test_split(x, y, test_size=0.2)\n",
    "\n",
    "x_train, x_test, y_train, y_test"
   ]
  },
  {
   "cell_type": "markdown",
   "metadata": {},
   "source": [
    "## Model building via linear regression"
   ]
  },
  {
   "cell_type": "code",
   "execution_count": 6,
   "metadata": {},
   "outputs": [],
   "source": [
    "# Train model.\n",
    "model = LinearRegression()\n",
    "\n",
    "model.fit(x_train, y_train)\n",
    "\n",
    "# Make predictions.\n",
    "predictions  = model.predict(x_test)"
   ]
  },
  {
   "cell_type": "markdown",
   "metadata": {},
   "source": [
    "## Model evaluation"
   ]
  },
  {
   "cell_type": "code",
   "execution_count": 7,
   "metadata": {},
   "outputs": [
    {
     "name": "stdout",
     "output_type": "stream",
     "text": [
      "Mean Absolute Error: 40186.23247696573\n",
      "Mean Squared Error: 2523323666.006507\n",
      "Root Mean Squared Error: 50232.69518955266\n",
      "R-squared: 0.5644461178158379\n"
     ]
    }
   ],
   "source": [
    "# Model evaluation\n",
    "mae = mean_absolute_error(y_test, predictions)\n",
    "mse = mean_squared_error(y_test, predictions)\n",
    "rmse = mean_squared_error(y_test, predictions, squared=False)\n",
    "r_squared = r2_score(y_test, predictions)\n",
    "\n",
    "print(f\"Mean Absolute Error: {mae}\")\n",
    "print(f\"Mean Squared Error: {mse}\")\n",
    "print(f\"Root Mean Squared Error: {rmse}\")\n",
    "print(f\"R-squared: {r_squared}\")"
   ]
  },
  {
   "cell_type": "code",
   "execution_count": 8,
   "metadata": {},
   "outputs": [
    {
     "name": "stdout",
     "output_type": "stream",
     "text": [
      "Sample: [[2126 4 1 1969 True False False]]\n"
     ]
    },
    {
     "data": {
      "text/plain": [
       "array([1.04037464e+17])"
      ]
     },
     "execution_count": 8,
     "metadata": {},
     "output_type": "execute_result"
    }
   ],
   "source": [
    "# Test with the first row of the dataset.\n",
    "sample = X.iloc[0].values.reshape(1, -1)\n",
    "print(f\"Sample: {sample}\")\n",
    "\n",
    "# Predict price for sample.\n",
    "model.predict(sample)"
   ]
  },
  {
   "cell_type": "markdown",
   "metadata": {},
   "source": [
    "## Model building via random forest"
   ]
  },
  {
   "cell_type": "code",
   "execution_count": 9,
   "metadata": {},
   "outputs": [],
   "source": [
    "# Build Random Forests model.\n",
    "from sklearn.ensemble import RandomForestRegressor\n",
    "model = RandomForestRegressor(\n",
    "    random_state=42, n_estimators=100,\n",
    "    max_depth=5, n_jobs=-1,\n",
    ")\n",
    "model.fit(x_train, y_train)\n",
    "\n",
    "# Make predictions.\n",
    "predictions = model.predict(x_test)"
   ]
  },
  {
   "cell_type": "markdown",
   "metadata": {},
   "source": [
    "## Model evaluation"
   ]
  },
  {
   "cell_type": "code",
   "execution_count": 10,
   "metadata": {},
   "outputs": [
    {
     "name": "stdout",
     "output_type": "stream",
     "text": [
      "Mean Absolute Error: 40296.31565804884\n",
      "Mean Squared Error: 2536289167.039078\n",
      "Root Mean Squared Error: 50361.58423877349\n",
      "R-squared: 0.5622081273490277\n"
     ]
    }
   ],
   "source": [
    "# Model evaluation\n",
    "mae = mean_absolute_error(y_test, predictions)\n",
    "mse = mean_squared_error(y_test, predictions)\n",
    "rmse = mean_squared_error(y_test, predictions, squared=False)\n",
    "r_squared = r2_score(y_test, predictions)\n",
    "\n",
    "print(f\"Mean Absolute Error: {mae}\")\n",
    "print(f\"Mean Squared Error: {mse}\")\n",
    "print(f\"Root Mean Squared Error: {rmse}\")\n",
    "print(f\"R-squared: {r_squared}\")"
   ]
  },
  {
   "cell_type": "markdown",
   "metadata": {},
   "source": [
    "## Model building via support vector regression"
   ]
  },
  {
   "cell_type": "code",
   "execution_count": 11,
   "metadata": {},
   "outputs": [],
   "source": [
    "# # Train model. Use Support Vector Regression.\n",
    "# model = SVR()\n",
    "\n",
    "# # Feature scaling - important for SVR\n",
    "# scaler_X = StandardScaler()\n",
    "# scaler_y = StandardScaler()\n",
    "# X_train_scaled = scaler_X.fit_transform(x_train)\n",
    "# y_train_scaled = scaler_y.fit_transform(np.array(y_train).reshape(-1, 1)).ravel()\n",
    "\n",
    "# model.fit(X_train_scaled, y_train_scaled)\n",
    "\n",
    "# # Make predictions.\n",
    "# predictions  = model.predict(x_test)"
   ]
  },
  {
   "cell_type": "markdown",
   "metadata": {},
   "source": [
    "## Model evaluation"
   ]
  },
  {
   "cell_type": "code",
   "execution_count": 12,
   "metadata": {},
   "outputs": [],
   "source": [
    "# # Model evaluation\n",
    "# mae = mean_absolute_error(y_test, predictions)\n",
    "# mse = mean_squared_error(y_test, predictions)\n",
    "# rmse = mean_squared_error(y_test, predictions, squared=False)\n",
    "# r_squared = r2_score(y_test, predictions)\n",
    "\n",
    "# print(f\"Mean Absolute Error: {mae}\")\n",
    "# print(f\"Mean Squared Error: {mse}\")\n",
    "# print(f\"Root Mean Squared Error: {rmse}\")\n",
    "# print(f\"R-squared: {r_squared}\")"
   ]
  }
 ],
 "metadata": {
  "kernelspec": {
   "display_name": "Python 3",
   "language": "python",
   "name": "python3"
  },
  "language_info": {
   "codemirror_mode": {
    "name": "ipython",
    "version": 3
   },
   "file_extension": ".py",
   "mimetype": "text/x-python",
   "name": "python",
   "nbconvert_exporter": "python",
   "pygments_lexer": "ipython3",
   "version": "3.12.1"
  }
 },
 "nbformat": 4,
 "nbformat_minor": 2
}
